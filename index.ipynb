{
 "cells": [
  {
   "cell_type": "markdown",
   "metadata": {
    "nbgrader": {
     "grade": false,
     "grade_id": "e186325754fa57315e5a547f8993d2af",
     "locked": true,
     "schema_version": 3,
     "solution": false,
     "task": false
    }
   },
   "source": [
    "## Pandas Data Cleaning"
   ]
  },
  {
   "cell_type": "markdown",
   "metadata": {
    "nbgrader": {
     "grade": false,
     "grade_id": "ffaa8152a0a65736ace373f28386debd",
     "locked": true,
     "schema_version": 3,
     "solution": false,
     "task": false
    }
   },
   "source": [
    "In this checkpoint you will be doing some preprocessing for a dataset for the videogame FIFA19 (https://www.kaggle.com/karangadiya/fifa19).  The dataset contains both data for the game as well as information about the players' real life careers."
   ]
  },
  {
   "cell_type": "code",
   "execution_count": null,
   "metadata": {
    "nbgrader": {
     "grade": false,
     "grade_id": "acb1e3dfb9727f1e29f658358f2b3bea",
     "locked": true,
     "schema_version": 3,
     "solution": false,
     "task": false
    }
   },
   "outputs": [],
   "source": [
    "# Run this cell without changes to import the necessary libraries\n",
    "import pandas as pd\n",
    "import numpy as np\n",
    "import warnings\n",
    "warnings.filterwarnings('ignore')"
   ]
  },
  {
   "cell_type": "markdown",
   "metadata": {},
   "source": [
    "### 1. Read the CSV file into a pandas dataframe\n",
    "\n",
    "The data you'll be working with is found in a file called `'./data/fifa.csv'`.  \n",
    "\n",
    "Use your knowledge of pandas to:\n",
    "- create a new dataframe using the csv data and assign that dataframe to the variable `df`\n",
    "\n",
    "\n",
    "- Look at the first five rows of `df`, and then assign them to the variable `df_first_five`\n",
    "\n",
    "- Display the number of rows and columns of `df` as a tuple, and then assign that tuple to the variable `df_rows_columns`\n",
    "\n",
    "*Hint: use the attributes of a `df` - in other words, `df.something` - in order to do the last two bullet points above!*"
   ]
  },
  {
   "cell_type": "code",
   "execution_count": null,
   "metadata": {
    "nbgrader": {
     "grade": false,
     "grade_id": "5daff4b5085bef4e29a242b8e08e0183",
     "locked": false,
     "schema_version": 3,
     "solution": true,
     "task": false
    }
   },
   "outputs": [],
   "source": [
    "### BEGIN SOLUTION\n",
    "\n",
    "\n",
    "from test_scripts.test_class import Test\n",
    "test = Test()\n",
    "\n",
    "df = pd.read_csv('./data/fifa.csv')\n",
    "\n",
    "test.save(df,'df')\n",
    "test.save(df.head(), 'df_head')\n",
    "test.save(df.shape, 'df_shape')\n",
    "### END SOLUTION"
   ]
  },
  {
   "cell_type": "code",
   "execution_count": null,
   "metadata": {
    "nbgrader": {
     "grade": true,
     "grade_id": "6c9bd9fb945dadef4af2c863dcc576e0",
     "locked": true,
     "points": 1,
     "schema_version": 3,
     "solution": false,
     "task": false
    }
   },
   "outputs": [],
   "source": [
    "### BEGIN HIDDEN TESTS\n",
    "\n",
    "from test_scripts.test_class import Test\n",
    "test = Test()\n",
    "\n",
    "test.run_test(df, \n",
    "              'df', \n",
    "              \"looks like you didn't import the dataframe correctly or didn't assign it to 'df'?\"\n",
    "             )\n",
    "\n",
    "test.run_test(df_first_five, \n",
    "              'df_head',\n",
    "              \"looks like you didn't assign the first five rows correctly to 'df_first_five'? \"\n",
    "             )\n",
    "\n",
    "test.run_test(df_rows_columns,\n",
    "              'df_shape',\n",
    "              \"looks like you didn't assign the (rows, columns) tuple correctly to 'df_rows_columns'?\"\n",
    "             )\n",
    "\n",
    "### END HIDDEN TESTS"
   ]
  },
  {
   "cell_type": "markdown",
   "metadata": {
    "nbgrader": {
     "grade": false,
     "grade_id": "9b27ce51c5c40480807f571c699b3dad",
     "locked": true,
     "schema_version": 3,
     "solution": false,
     "task": false
    }
   },
   "source": [
    "### 2. Drop rows with missing values from a specific column, `Release Clause`\n",
    "    \n",
    "#### A. Drop rows for which the value in the column `Release Clause` is None or not given. \n",
    "\n",
    "(This is part of a soccer player's contract dealing with being bought out by another team.)**\n",
    "\n",
    "#### B. Check the shape of the dataframe after you drop, and assign a tuple with rows and columns to the variable `post_drop`"
   ]
  },
  {
   "cell_type": "code",
   "execution_count": null,
   "metadata": {
    "nbgrader": {
     "grade": false,
     "grade_id": "c9139543b5d02bfa0e16ba817ddfb319",
     "locked": false,
     "schema_version": 3,
     "solution": true,
     "task": false
    }
   },
   "outputs": [],
   "source": [
    "### BEGIN SOLUTION\n",
    "\n",
    "df.dropna(subset=['Release Clause'],inplace=True)\n",
    "test.save(df, 'df_release')\n",
    "test.save(df.shape, 'post_drop')\n",
    "\n",
    "### END SOLUTION"
   ]
  },
  {
   "cell_type": "code",
   "execution_count": null,
   "metadata": {
    "nbgrader": {
     "grade": true,
     "grade_id": "7793f70838e2db1c420a6827a5d488d2",
     "locked": true,
     "points": 1,
     "schema_version": 3,
     "solution": false,
     "task": false
    }
   },
   "outputs": [],
   "source": [
    "### BEGIN HIDDEN TESTS\n",
    "\n",
    "test.run_test(df, \n",
    "              'df_release', \n",
    "              \"looks like the right number of rows weren't dropped?\"\n",
    "             )\n",
    "\n",
    "test.run_test(post_drop,\n",
    "              'post_drop',\n",
    "              \"looks like the (rows, columns) tuple wasn't assigned correctly to 'post_drop'?\"\n",
    "             )\n",
    "### END HIDDEN TESTS"
   ]
  },
  {
   "cell_type": "markdown",
   "metadata": {
    "nbgrader": {
     "grade": false,
     "grade_id": "3976a7e962c601b0250c5e44be367e47",
     "locked": true,
     "schema_version": 3,
     "solution": false,
     "task": false
    }
   },
   "source": [
    "### 3. Convert the `Release Clause` Price from Euros to Dollars\n",
    "\n",
    "Now that there are no missing values, we can change the values in the `Release Clause` column from Euro to Dollar amounts.\n",
    "\n",
    "\n",
    "#### Change the values in the `Release Clause` contract from Euros to the appropriate number of Dollars\n",
    "\n",
    "- Assume the current exchange rate is `1 Euro = 1.2 Dollars`\n",
    "- Make sure that the column **inside of the dataframe** is changed!"
   ]
  },
  {
   "cell_type": "code",
   "execution_count": null,
   "metadata": {
    "nbgrader": {
     "grade": false,
     "grade_id": "3b8f0d6746ebc1221ebe87cb70162f64",
     "locked": false,
     "schema_version": 3,
     "solution": true,
     "task": false
    }
   },
   "outputs": [],
   "source": [
    "### BEGIN SOLUTION\n",
    "\n",
    "df['Release Clause'] = df['Release Clause'] * 1.2\n",
    "\n",
    "test.save(df['Release Clause'].mean(), 'new_mean')\n",
    "test.save(df, 'df_in_dollars')\n",
    "\n",
    "### END SOLUTION"
   ]
  },
  {
   "cell_type": "code",
   "execution_count": null,
   "metadata": {
    "nbgrader": {
     "grade": true,
     "grade_id": "f1dfb7d1554fae0f3f11b4034256c08d",
     "locked": true,
     "points": 1,
     "schema_version": 3,
     "solution": false,
     "task": false
    }
   },
   "outputs": [],
   "source": [
    "### BEGIN HIDDEN TESTS\n",
    "\n",
    "test.run_test(df['Release Clause'].mean(), \n",
    "              'new_mean', \n",
    "              \"looks like you didn't multiply the column by 1.2 and put those new values in the dataframe?\",\n",
    "              'float'\n",
    "             )\n",
    "\n",
    "### END HIDDEN TESTS"
   ]
  }
 ],
 "metadata": {
  "kernelspec": {
   "display_name": "Python 3",
   "language": "python",
   "name": "python3"
  },
  "language_info": {
   "codemirror_mode": {
    "name": "ipython",
    "version": 3
   },
   "file_extension": ".py",
   "mimetype": "text/x-python",
   "name": "python",
   "nbconvert_exporter": "python",
   "pygments_lexer": "ipython3",
   "version": "3.7.4"
  }
 },
 "nbformat": 4,
 "nbformat_minor": 4
}
